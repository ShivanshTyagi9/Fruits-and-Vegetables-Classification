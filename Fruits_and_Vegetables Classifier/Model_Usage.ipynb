{
 "cells": [
  {
   "cell_type": "code",
   "execution_count": 1,
   "id": "bae6fc3c-1033-4d5e-a354-59a242ffae08",
   "metadata": {},
   "outputs": [],
   "source": [
    "import tensorflow as tf\n",
    "import numpy as np\n",
    "from tensorflow.keras.preprocessing import image\n",
    "import tensorflow_hub as hub"
   ]
  },
  {
   "cell_type": "code",
   "execution_count": 36,
   "id": "c22b3d89-7f0c-43c6-90f1-14e75299aef1",
   "metadata": {},
   "outputs": [],
   "source": [
    "# Load the saved model\n",
    "model = tf.keras.models.load_model(\"ResNet.h5\", custom_objects={'KerasLayer': hub.KerasLayer})"
   ]
  },
  {
   "cell_type": "code",
   "execution_count": 43,
   "id": "1616f764-3298-4a92-9775-0fe1a302dbd8",
   "metadata": {},
   "outputs": [
    {
     "name": "stdout",
     "output_type": "stream",
     "text": [
      "1/1 [==============================] - 0s 41ms/step\n",
      "Predicted Class: 1, Confidence: 1.00\n"
     ]
    }
   ],
   "source": [
    "# Function to preprocess the image\n",
    "def preprocess_image(img_path, image_shape):\n",
    "    img = image.load_img(img_path, target_size=image_shape)\n",
    "    img_array = image.img_to_array(img)\n",
    "    img_array = img_array / 255.0  # Normalize the image\n",
    "    return np.expand_dims(img_array, axis=0)  # Add batch dimension\n",
    "\n",
    "# Path to the test image\n",
    "image_path = r\"C:\\Users\\shive\\Downloads\\banana.png\"  # Replace with your test image path\n",
    "\n",
    "# Preprocess the image\n",
    "preprocessed_image = preprocess_image(image_path, (224, 224))  # Adjust (224, 224) based on your image_shape\n",
    "\n",
    "# Make a prediction\n",
    "predictions = model.predict(preprocessed_image)\n",
    "\n",
    "# Get the predicted class\n",
    "predicted_class = np.argmax(predictions, axis=1)[0]\n",
    "confidence = predictions[0][predicted_class]\n",
    "\n",
    "# Print the result\n",
    "print(f\"Predicted Class: {predicted_class}, Confidence: {confidence:.2f}\")\n"
   ]
  },
  {
   "cell_type": "code",
   "execution_count": 44,
   "id": "3c997b14-6c68-4150-94b5-c92f4b1bef0f",
   "metadata": {},
   "outputs": [
    {
     "name": "stdout",
     "output_type": "stream",
     "text": [
      "Predicted Class: banana, Confidence: 1.00\n"
     ]
    }
   ],
   "source": [
    "import os\n",
    "categories = os.listdir(r\"C:\\Users\\shive\\Downloads\\DataSet\\validation\")\n",
    "print(f\"Predicted Class: {categories[predicted_class]}, Confidence: {confidence:.2f}\")"
   ]
  }
 ],
 "metadata": {
  "kernelspec": {
   "display_name": "Python 3 (ipykernel)",
   "language": "python",
   "name": "python3"
  },
  "language_info": {
   "codemirror_mode": {
    "name": "ipython",
    "version": 3
   },
   "file_extension": ".py",
   "mimetype": "text/x-python",
   "name": "python",
   "nbconvert_exporter": "python",
   "pygments_lexer": "ipython3",
   "version": "3.10.16"
  }
 },
 "nbformat": 4,
 "nbformat_minor": 5
}
